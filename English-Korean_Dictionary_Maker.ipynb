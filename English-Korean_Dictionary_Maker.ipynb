{
 "cells": [
  {
   "cell_type": "markdown",
   "id": "f77f180d",
   "metadata": {},
   "source": [
    "### Folder name"
   ]
  },
  {
   "cell_type": "code",
   "execution_count": 6,
   "id": "57eea8f6",
   "metadata": {},
   "outputs": [],
   "source": [
    "import os\n",
    "\n",
    "folder_name = input('folder name: ')\n",
    "os.makedirs(folder_name, exist_ok=True)"
   ]
  },
  {
   "cell_type": "markdown",
   "id": "77696a06",
   "metadata": {},
   "source": [
    "### text file name"
   ]
  },
  {
   "cell_type": "code",
   "execution_count": 9,
   "id": "a4064f73",
   "metadata": {},
   "outputs": [
    {
     "name": "stdout",
     "output_type": "stream",
     "text": [
      "File already exists: Generalized Out-of-Distribution Detection_A Survey/Abstract\n"
     ]
    }
   ],
   "source": [
    "text_name = input('text name: ')\n",
    "if text_name != 'q':\n",
    "    file_path = f'{folder_name}/{text_name}'\n",
    "    try:\n",
    "        with open(file_path, 'x', encoding='utf-8') as f:\n",
    "            f.write(folder_name+': '+text_name+' words\\n\\n')\n",
    "            print(\"New file created:\", file_path)\n",
    "    except FileExistsError:\n",
    "        print(\"File already exists:\", file_path)\n",
    "else:\n",
    "    text_name='None'"
   ]
  },
  {
   "cell_type": "markdown",
   "id": "3d5ee7eb",
   "metadata": {},
   "source": [
    "### Input: English words and their Korean meanings"
   ]
  },
  {
   "cell_type": "code",
   "execution_count": 12,
   "id": "d131b61e",
   "metadata": {},
   "outputs": [
    {
     "name": "stdout",
     "output_type": "stream",
     "text": [
      "current folder name: Generalized Out-of-Distribution Detection_A Survey\n",
      "current text file name: Abstract\n",
      "\n",
      "Number of add words: 0\n"
     ]
    }
   ],
   "source": [
    "print(f'current folder name: {folder_name}')\n",
    "print(f'current text file name: {text_name}')\n",
    "\n",
    "count=0\n",
    "\n",
    "while True:\n",
    "    english_word = input('English word: ')\n",
    "    if english_word == 'q' or 'ㅂ':\n",
    "        break\n",
    "    korean_meaning = input('Korean meaning: ')\n",
    "\n",
    "    with open(f'{folder_name}/{text_name}', 'a', encoding='utf-8') as f:\n",
    "        f.write(f\"{english_word.ljust(20)}{korean_meaning}\\n\")\n",
    "    count+=1\n",
    "\n",
    "print('\\nNumber of add words:', count)"
   ]
  }
 ],
 "metadata": {
  "kernelspec": {
   "display_name": "torch_book",
   "language": "python",
   "name": "python3"
  },
  "language_info": {
   "codemirror_mode": {
    "name": "ipython",
    "version": 3
   },
   "file_extension": ".py",
   "mimetype": "text/x-python",
   "name": "python",
   "nbconvert_exporter": "python",
   "pygments_lexer": "ipython3",
   "version": "3.12.9"
  }
 },
 "nbformat": 4,
 "nbformat_minor": 5
}
